{
 "cells": [
  {
   "cell_type": "markdown",
   "metadata": {},
   "source": [
    "# Writing in a file.\n",
    "\n",
    "The aim of this documet is to help you better understand ```write()``` function and what does it actually mean to write in a file.\n",
    "\n",
    "### Recap\n",
    "So uptil now, what we understood is how to open a file, read it, using ```read()```, ```readline()```, and ```readlines()```. We also understood the different types of file access modes, i.e., \"r\", \"w\", \"a\", \"r+\", \"w+\", \"a+\"\n",
    "and also, thre corresponding file access modes for binary. We then also studied how to close a file and that python automatically closes the file at the end of the program but it is good to explicitly close a programin order to retain written data to the file using ```<file handle>.close()```\n",
    "If there is any of the aboive that you don't know about, click --> [here](#)"
   ]
  },
  {
   "cell_type": "markdown",
   "metadata": {},
   "source": [
    "### Writing in a file\n",
    "\n",
    "First of all, lets understand a fact that when using the file access mode \"w\", **in case there is no file at the source location, a file will be created.** This does not happen in Read-mode.\n",
    "\n",
    "Secondly, in case there is already some data in the file you are opening, **all the previous data will be deleted/truncated/removed/erased** (whatever makes it clearer). If you don't want the previous data to be removed, please  use append-mode instead of write-mode\n",
    "\n",
    "Lastly, when writing, remember, it is very much recommended to **close the file**.\n",
    "\n",
    "So let's get started."
   ]
  },
  {
   "cell_type": "code",
   "execution_count": 2,
   "metadata": {},
   "outputs": [],
   "source": [
    "file1=open(\"testing.txt\", \"w\")\n",
    "file1.write(\"Writing in a file is very simple.\")\n",
    "file1.close()"
   ]
  },
  {
   "cell_type": "markdown",
   "metadata": {},
   "source": [
    "Let us now try to read the file"
   ]
  },
  {
   "cell_type": "code",
   "execution_count": 19,
   "metadata": {},
   "outputs": [
    {
     "name": "stdout",
     "output_type": "stream",
     "text": [
      "Writing in a file is very simple.\n"
     ]
    }
   ],
   "source": [
    "file1=open(\"testing.txt\", \"r\")\n",
    "a=file1.read()\n",
    "print(a)\n",
    "file1.close()"
   ]
  },
  {
   "cell_type": "markdown",
   "metadata": {},
   "source": [
    "__Hence we have successfully written in the file.__\n",
    "\n",
    "Let's explore more about writing in a file. Let us try to write something in the same file and then try to read it and see what happens."
   ]
  },
  {
   "cell_type": "code",
   "execution_count": 20,
   "metadata": {},
   "outputs": [],
   "source": [
    "file2=open(\"testing.txt\", \"w\")\n",
    "file2.write(\"Reading files is also very simple.\")\n",
    "file2.close()"
   ]
  },
  {
   "cell_type": "code",
   "execution_count": 21,
   "metadata": {},
   "outputs": [
    {
     "name": "stdout",
     "output_type": "stream",
     "text": [
      "Reading files is also very simple.\n"
     ]
    }
   ],
   "source": [
    "file2=open(\"testing.txt\", \"r\")\n",
    "b=file2.read()\n",
    "print(b)\n",
    "file2.close()"
   ]
  },
  {
   "cell_type": "markdown",
   "metadata": {},
   "source": [
    "As it is very well visible, the previous sentence we wrote in the same file, ```Writing in a file is very simple```, waws deleted and only the last statement we wrote, ```Reading files is also very simple``` was left."
   ]
  },
  {
   "cell_type": "markdown",
   "metadata": {},
   "source": [
    "**Lets now write a program to hold the names of multiple employees in a factory**"
   ]
  },
  {
   "cell_type": "code",
   "execution_count": 5,
   "metadata": {},
   "outputs": [
    {
     "name": "stdout",
     "output_type": "stream",
     "text": [
      "Enter the number of employees in the factory: 3\n",
      "Enter the name of employee: Ram\n",
      "Enter the name of employee: Rohan\n",
      "Enter the name of employee: Raghav\n"
     ]
    }
   ],
   "source": [
    "empnames=open(\"Employees.txt\", \"w\")\n",
    "n=int(input(\"Enter the number of employees in the factory: \"))\n",
    "for i in range(n):\n",
    "    name=input(\"Enter the name of employee: \")\n",
    "    empnames.write(name)\n",
    "    empnames.write(\"\\n\") #To write in next line\n",
    "empnames.close()"
   ]
  },
  {
   "cell_type": "code",
   "execution_count": 6,
   "metadata": {},
   "outputs": [
    {
     "name": "stdout",
     "output_type": "stream",
     "text": [
      "RamRohanRaghav\n"
     ]
    }
   ],
   "source": [
    "empread=open(\"Employees.txt\", \"r\")\n",
    "c=empread.read()\n",
    "print(c)\n",
    "empread.close()"
   ]
  },
  {
   "cell_type": "markdown",
   "metadata": {},
   "source": [
    "___"
   ]
  },
  {
   "cell_type": "markdown",
   "metadata": {},
   "source": [
    "**Now, let's make a program to add some more more names to the list of employees we just made**"
   ]
  },
  {
   "cell_type": "code",
   "execution_count": 37,
   "metadata": {},
   "outputs": [
    {
     "name": "stdout",
     "output_type": "stream",
     "text": [
      "No. of new entries: 3\n",
      "Enter the name of new employee: Mohan\n",
      "Enter the name of new employee: Sohan\n",
      "Enter the name of new employee: Shyam\n"
     ]
    }
   ],
   "source": [
    "empadd=open(\"Employees.txt\", \"a\")\n",
    "m=int(input(\"No. of new entries: \"))\n",
    "for i in range(m):\n",
    "    name=input(\"Enter the name of new employee: \")\n",
    "    empadd.write(name)\n",
    "    empadd.write(\"\\n\")\n",
    "empadd.close()"
   ]
  },
  {
   "cell_type": "code",
   "execution_count": 38,
   "metadata": {},
   "outputs": [
    {
     "name": "stdout",
     "output_type": "stream",
     "text": [
      "Ram\n",
      "Raghav\n",
      "Raj\n",
      "Rahul\n",
      "Rohan\n",
      "Mohan\n",
      "Sohan\n",
      "Shyam\n",
      "\n"
     ]
    }
   ],
   "source": [
    "empread2=open(\"Employees.txt\", \"r\")\n",
    "d=empread2.read()\n",
    "print(d)\n",
    "empread2.close()"
   ]
  },
  {
   "cell_type": "markdown",
   "metadata": {},
   "source": [
    "As you can see we appended the file and added new entries without affecting any of the above lines\n",
    "___"
   ]
  },
  {
   "cell_type": "markdown",
   "metadata": {},
   "source": [
    "**Let's now create a CSV file**\n",
    "A CSV file, or a **Comma Separated File** is a highly used file for storing data in tables. It is used by Microsoft, Google, etc. and every contacts app. Data in this type of file is separated in columns according with a special character know as the **comma** represented by \",\" (For all those who did not know what is a comma, Thank me later)"
   ]
  },
  {
   "cell_type": "code",
   "execution_count": 10,
   "metadata": {},
   "outputs": [
    {
     "name": "stdout",
     "output_type": "stream",
     "text": [
      "No. of entries: 3\n",
      "Enter the details for student 1 below: \n",
      "Roll No.: 1\n",
      "Name: a\n",
      "Marks obtained: 34\n",
      "Enter the details for student 2 below: \n",
      "Roll No.: 12\n",
      "Name: fgh\n",
      "Marks obtained: 34\n",
      "Enter the details for student 3 below: \n",
      "Roll No.: 54\n",
      "Name: fggh\n",
      "Marks obtained: 77\n"
     ]
    }
   ],
   "source": [
    "count=int(input(\"No. of entries: \"))\n",
    "file1=open(\"Marks.csv\", \"w\")\n",
    "\n",
    "for i in range(count):\n",
    "    print(\"Enter the details for student\", (i+1), \"below: \")\n",
    "    roll=int(input(\"Roll No.: \"))\n",
    "    name=(input(\"Name: \"))\n",
    "    marks=int(input(\"Marks obtained: \"))\n",
    "    a=str(roll)+\",\"+name+\",\"+str(marks)+\"\\n\" #We need to add every record as a string. Indegers cannot be written in a file\n",
    "    file1.write(a)\n",
    "file1.close()"
   ]
  },
  {
   "cell_type": "code",
   "execution_count": 11,
   "metadata": {
    "scrolled": true
   },
   "outputs": [
    {
     "name": "stdout",
     "output_type": "stream",
     "text": [
      "1,a,34\n",
      "12,fgh,34\n",
      "54,fggh,77\n",
      "\n"
     ]
    }
   ],
   "source": [
    "read3=open(\"Marks.csv\", \"r\")\n",
    "e=read3.read()\n",
    "print(e)\n",
    "read3.close()"
   ]
  },
  {
   "cell_type": "markdown",
   "metadata": {},
   "source": [
    "---"
   ]
  },
  {
   "cell_type": "markdown",
   "metadata": {},
   "source": [
    "So now you can create a lot of files and do all sorts of experiments with and let your creativity run wild from here on... While you do that, let's just do a (very much needed) formality:\n",
    "\n",
    "## Summary\n",
    "1. We understood what ```write()``` is and how to use it\n",
    "2. We understood what ```append()``` is and how to use it\n",
    "3. We practised a few programs on writing and appending a document\n",
    "4. We also briefly understood what is CSV files and how to handle them.\n",
    "\n",
    "## Up next...\n",
    "1. Using ```flush()```\n",
    "2. Standard input and output\n",
    "3. Error Stream\n",
    "4. working with ```with``` --> V. Imp\n",
    "5. Pickle --> Imp\n",
    "\n",
    "To continue to next document, click --> [here](#)"
   ]
  },
  {
   "cell_type": "code",
   "execution_count": null,
   "metadata": {},
   "outputs": [],
   "source": []
  },
  {
   "cell_type": "code",
   "execution_count": null,
   "metadata": {},
   "outputs": [],
   "source": []
  }
 ],
 "metadata": {
  "kernelspec": {
   "display_name": "Python 3",
   "language": "python",
   "name": "python3"
  },
  "language_info": {
   "codemirror_mode": {
    "name": "ipython",
    "version": 3
   },
   "file_extension": ".py",
   "mimetype": "text/x-python",
   "name": "python",
   "nbconvert_exporter": "python",
   "pygments_lexer": "ipython3",
   "version": "3.8.2"
  }
 },
 "nbformat": 4,
 "nbformat_minor": 4
}
