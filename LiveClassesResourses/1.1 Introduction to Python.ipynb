{
 "cells": [
  {
   "cell_type": "markdown",
   "metadata": {},
   "source": [
    "# Welcome To Python\n",
    "![\"Python\"](https://github.com/Utkarsh-Luthra/CS-CLasses/pythonlogo.png)\n",
    "\n",
    "So you have decided to learn Python! Great choice because it is one of the highest growing languages in the world and is very simple to learn and understand. And it is definitely a journey worth it.\n",
    "\n",
    "So let's dive in.\n",
    "\n",
    "### What is Python?\n",
    "So in very definative manner, we can say that __Python is an [object oriented](#), [high-level](#), [interpreted](#) [programming](#) [language](https://www.google.com).__\n",
    "Most books will have exactly this defination! And this statement very well encapulates what Python is... but only of you actually understand what it is!\n",
    " So click on individual elements of the defination to get to the page which gives deep explanation... Heres a tip though, start from the last word and move towards the left (it will geve better insight to you and will be clearer).\n"
   ]
  },
  {
   "cell_type": "markdown",
   "metadata": {},
   "source": [
    "### How to Install Python\n",
    "Okay, so this may seem like a very weird and useless question to some, but still, we are linking this to another page, which will in turn not only give information of how to install Python Interpreter and the basic Python IDE which comes with it, but also explain how to install several other libraries, IDEs, etc. for your python journey. Also, there is a long comparision of different IDEs and Text Editors and how to use them all.\n",
    "\n",
    "Long story short, JUST CLICK --> [here](https://www.google.com)"
   ]
  },
  {
   "cell_type": "markdown",
   "metadata": {},
   "source": [
    "Now that all that is out of the way, let's actually dive in to...\n",
    "\n",
    "## Our First Piece of Code\n",
    "And honestly, how much ever we love a nice first \"Hello World\" program... we strongly believe that it is not the best thing to start with... \n",
    "\n",
    "So here goes our first program, which we believe is a better option:"
   ]
  },
  {
   "cell_type": "code",
   "execution_count": 8,
   "metadata": {},
   "outputs": [
    {
     "name": "stdout",
     "output_type": "stream",
     "text": [
      "Please Enter Your Name: Rahul\n",
      "Rahul\n"
     ]
    }
   ],
   "source": [
    "name = input(\"Please Enter Your Name: \")\n",
    "print(name)"
   ]
  },
  {
   "cell_type": "markdown",
   "metadata": {},
   "source": [
    "Now lets see what this is...\n",
    "\n",
    "1. 'name' is a variable which we named. It can contain anything. Numbers, strings (collection of alphabets), expressions, functions, or even other variables.\n",
    "\n",
    "2. ```input()``` is something in which is used to take an input from a user. As you can notice if you run the code, whatever is written inside the brackets of ```input()``` is displayed as the question.\n",
    "\n",
    "3. ```print()``` is also also something very special. It allows you to \"print\" whatever you write inside its brackets. To print means that... well, it will give an output. In python it is done using ```print()```\n",
    "\n",
    "4. Inside the brackets of ```print()```, we have used the name of the variable since the variable is the container in which our data is stored. We can print anything... strings, integers, and basically anything exceptions will be mentioned when required)"
   ]
  },
  {
   "cell_type": "markdown",
   "metadata": {},
   "source": [
    "__Now that we have done this... let's experiment with print() and input() a bit...__"
   ]
  },
  {
   "cell_type": "code",
   "execution_count": 2,
   "metadata": {},
   "outputs": [
    {
     "name": "stdout",
     "output_type": "stream",
     "text": [
      "1\n"
     ]
    }
   ],
   "source": [
    "print(1)"
   ]
  },
  {
   "cell_type": "code",
   "execution_count": 3,
   "metadata": {},
   "outputs": [
    {
     "name": "stdout",
     "output_type": "stream",
     "text": [
      "8\n"
     ]
    }
   ],
   "source": [
    "print(1+7)"
   ]
  },
  {
   "cell_type": "code",
   "execution_count": 9,
   "metadata": {},
   "outputs": [
    {
     "name": "stdout",
     "output_type": "stream",
     "text": [
      "My Name is XYZ\n"
     ]
    }
   ],
   "source": [
    "print(\"My Name is XYZ\")"
   ]
  },
  {
   "cell_type": "markdown",
   "metadata": {},
   "source": [
    "Remember, any letter/combination of letters is known as a string in the programming world... and a string is always represented by writing it using \"...\" or '...' or '''...'''\n",
    "\n",
    "Further, we will talk of this soon... or skip to that part now by clicking --> [here](#) (Not Recommended)\n",
    "\n",
    "__For all those of you who love traditional and classic tutorials, here is your favourite program__:"
   ]
  },
  {
   "cell_type": "code",
   "execution_count": 5,
   "metadata": {},
   "outputs": [
    {
     "name": "stdout",
     "output_type": "stream",
     "text": [
      "Hello World\n"
     ]
    }
   ],
   "source": [
    "print(\"Hello World\")"
   ]
  },
  {
   "cell_type": "markdown",
   "metadata": {},
   "source": [
    "Lets use a bit of input() as well now"
   ]
  },
  {
   "cell_type": "code",
   "execution_count": 6,
   "metadata": {},
   "outputs": [
    {
     "name": "stdout",
     "output_type": "stream",
     "text": [
      "Enter your Name: Rahul\n",
      "Enter your Age: 25\n",
      "Enter your Gender: Male\n"
     ]
    }
   ],
   "source": [
    "Name=input(\"Enter your Name: \")\n",
    "Age=input(\"Enter your Age: \")\n",
    "Gender=input(\"Enter your Gender: \")"
   ]
  },
  {
   "cell_type": "markdown",
   "metadata": {},
   "source": [
    "Okay so now let's get some nice output for this:"
   ]
  },
  {
   "cell_type": "code",
   "execution_count": 10,
   "metadata": {},
   "outputs": [
    {
     "name": "stdout",
     "output_type": "stream",
     "text": [
      "Rahul is a 25 year old Male\n"
     ]
    }
   ],
   "source": [
    "print(Name, \"is a\", Age, \"year old\", Gender)"
   ]
  },
  {
   "cell_type": "markdown",
   "metadata": {},
   "source": [
    "Yeah, we know it is not the best sentence we could make but let's just keep moving. The point of this last exercise was to show you the power of print. You can print multiple variables, stings, integers, etc. using a special charachter called comma represented by \",\" (for all those who had no idea of what a comma is, thank me later :D)"
   ]
  },
  {
   "cell_type": "markdown",
   "metadata": {},
   "source": [
    "So, according to us, this much scrolling is enough for today. Why don't you try to do some experimentation here and there and have some fun with ```print()``` and ```input()```... Let you imagination run you wild for this... _after all you always have the delete button in computer :P_"
   ]
  },
  {
   "cell_type": "markdown",
   "metadata": {},
   "source": [
    "While you do all that, I guess we could do a bit of a formality... __Here's the summary of what we just learnt:__"
   ]
  },
  {
   "cell_type": "markdown",
   "metadata": {},
   "source": [
    "# Summary\n",
    "* Python is an interpreted, high-level, object oriented programming language\n",
    "* Python is very, very, very, very.... easy\n",
    "* Python is very interesting and fun\n",
    "* Python is awesome\n",
    "* Python has something called ```print()``` which gives output and ```input()``` which can be used for input.\n",
    "* Python can be taught by many people, but Utkarsh Luthra is the best :P (_No offense to any other teacher_)"
   ]
  },
  {
   "cell_type": "markdown",
   "metadata": {},
   "source": [
    "# Extended Reading\n",
    "For all of you guys who would love to know more about python, its creator, its history, its ancestors, its family, and all that interesting stuff...click --> [here](#)"
   ]
  }
 ],
 "metadata": {
  "kernelspec": {
   "display_name": "Python 3",
   "language": "python",
   "name": "python3"
  },
  "language_info": {
   "codemirror_mode": {
    "name": "ipython",
    "version": 3
   },
   "file_extension": ".py",
   "mimetype": "text/x-python",
   "name": "python",
   "nbconvert_exporter": "python",
   "pygments_lexer": "ipython3",
   "version": "3.8.2"
  }
 },
 "nbformat": 4,
 "nbformat_minor": 4
}
